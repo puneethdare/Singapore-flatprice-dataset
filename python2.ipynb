{
 "cells": [
  {
   "cell_type": "markdown",
   "metadata": {},
   "source": [
    "## In this competition, you are expected to create an analytical and modelling framework to predict the flat resale prices based on the quantitative and qualitative features provided in the dataset while answering other questions too cited below. You may derive new features from the existing features and from the domain knowledge, which may help in improving the model efficiency.\n"
   ]
  },
  {
   "cell_type": "markdown",
   "metadata": {},
   "source": [
    "## Importing the Packages required"
   ]
  },
  {
   "cell_type": "code",
   "execution_count": 71,
   "metadata": {},
   "outputs": [],
   "source": [
    "\n",
    "import numpy as np\n",
    "import pandas as pd\n",
    "\n",
    "from sklearn import preprocessing\n",
    "from sklearn.impute import SimpleImputer\n",
    "\n",
    "from sklearn.compose import ColumnTransformer\n",
    "\n",
    "from sklearn.preprocessing import StandardScaler\n",
    "from sklearn.preprocessing import OneHotEncoder\n",
    "from sklearn.model_selection import train_test_split\n",
    "from sklearn.pipeline import Pipeline\n",
    "from sklearn.model_selection import GridSearchCV, cross_val_score, StratifiedKFold\n",
    "from sklearn.pipeline import make_pipeline\n",
    "from sklearn.kernel_ridge import KernelRidge\n",
    "from sklearn.metrics import mean_squared_error\n",
    "import xgboost as xgb\n",
    "from sklearn.model_selection import KFold\n",
    "\n",
    "\n",
    "\n",
    "\n",
    "from sklearn.linear_model import LinearRegression\n",
    "from sklearn.tree import DecisionTreeRegressor\n",
    "from sklearn.ensemble import RandomForestRegressor\n",
    "from sklearn.ensemble import GradientBoostingRegressor\n",
    "from sklearn.preprocessing import RobustScaler\n",
    "from sklearn.base import BaseEstimator, TransformerMixin, RegressorMixin, clone\n",
    "\n",
    "import matplotlib.pyplot as plt\n",
    "import seaborn as sns\n",
    "\n",
    "import warnings\n",
    "warnings.filterwarnings('ignore')"
   ]
  },
  {
   "cell_type": "markdown",
   "metadata": {},
   "source": [
    "#### Setting the work directory"
   ]
  },
  {
   "cell_type": "code",
   "execution_count": 2,
   "metadata": {},
   "outputs": [],
   "source": [
    "import os\n",
    "os.chdir(\"C:\\\\Users\\\\punee\\\\Downloads\\\\Data_For_all\")"
   ]
  },
  {
   "cell_type": "code",
   "execution_count": 3,
   "metadata": {},
   "outputs": [
    {
     "data": {
      "text/plain": [
       "'C:\\\\Users\\\\punee\\\\Downloads\\\\Data_For_all'"
      ]
     },
     "execution_count": 3,
     "metadata": {},
     "output_type": "execute_result"
    }
   ],
   "source": [
    "os.getcwd()"
   ]
  },
  {
   "cell_type": "markdown",
   "metadata": {},
   "source": [
    "#### Reading & Understanding the Train & Test Data sets"
   ]
  },
  {
   "cell_type": "code",
   "execution_count": 4,
   "metadata": {},
   "outputs": [],
   "source": [
    "Train_1 = pd.read_csv(\"train1.csv\", sep=',', header=0, na_values=[\"?\",\",\",\"#\",\"unknown\"])\n",
    "Train_2 = pd.read_csv(\"train2.csv\", sep=',', header=0, na_values=[\"?\",\",\",\"#\",\"unknown\"])\n",
    "Train_3 = pd.read_csv(\"train3.csv\", sep=',', header=0, na_values=[\"?\",\",\",\"#\",\"unknown\"])\n",
    "Test_data = pd.read_csv(\"test.csv\", sep=',', header=0, na_values=[\"?\",\",\",\"#\",\"unknown\"])\n",
    "Bldng_to_mtr_dst = pd.read_csv(\"building_to_mrt_distance.csv\", sep=',', header=0, na_values=[\"?\",\",\",\"#\",\"unknown\"])\n",
    "df=pd.read_csv(\"test.csv\", sep=',', header=0, na_values=[\"?\",\",\",\"#\",\"unknown\"])"
   ]
  },
  {
   "cell_type": "markdown",
   "metadata": {},
   "source": [
    "#### Checking the shapes of train & test data "
   ]
  },
  {
   "cell_type": "code",
   "execution_count": 5,
   "metadata": {},
   "outputs": [
    {
     "name": "stdout",
     "output_type": "stream",
     "text": [
      "(52203, 11)\n",
      "(37153, 12)\n",
      "(32578, 12)\n",
      "(21846, 11)\n",
      "(8811, 120)\n"
     ]
    }
   ],
   "source": [
    "print(Train_1.shape)\n",
    "print(Train_2.shape)\n",
    "print(Train_3.shape)\n",
    "print(Test_data.shape)\n",
    "print(Bldng_to_mtr_dst.shape)"
   ]
  },
  {
   "cell_type": "markdown",
   "metadata": {},
   "source": [
    "### Checking the data types"
   ]
  },
  {
   "cell_type": "code",
   "execution_count": 6,
   "metadata": {},
   "outputs": [
    {
     "data": {
      "text/plain": [
       "month                   object\n",
       "town                    object\n",
       "flat_type               object\n",
       "block                   object\n",
       "street_name             object\n",
       "storey_range            object\n",
       "floor_area_sqm         float64\n",
       "flat_model              object\n",
       "lease_commence_date      int64\n",
       "resale_price           float64\n",
       "uniqueID                 int64\n",
       "dtype: object"
      ]
     },
     "execution_count": 6,
     "metadata": {},
     "output_type": "execute_result"
    }
   ],
   "source": [
    "Train_1.dtypes"
   ]
  },
  {
   "cell_type": "markdown",
   "metadata": {},
   "source": [
    "#### From the train csv files, it is observed that remaining lease column is missing, so we have to create this column and impute the values by using some formula. So, new columns i.e year only and lease ending date are used for creation of missing column in Train 1 "
   ]
  },
  {
   "cell_type": "code",
   "execution_count": 7,
   "metadata": {},
   "outputs": [
    {
     "data": {
      "text/plain": [
       "0        2012\n",
       "1        2012\n",
       "2        2012\n",
       "3        2012\n",
       "4        2012\n",
       "5        2012\n",
       "6        2012\n",
       "7        2012\n",
       "8        2012\n",
       "9        2012\n",
       "10       2012\n",
       "11       2012\n",
       "12       2012\n",
       "13       2012\n",
       "14       2012\n",
       "15       2012\n",
       "16       2012\n",
       "17       2012\n",
       "18       2012\n",
       "19       2012\n",
       "20       2012\n",
       "21       2012\n",
       "22       2012\n",
       "23       2012\n",
       "24       2012\n",
       "25       2012\n",
       "26       2012\n",
       "27       2012\n",
       "28       2012\n",
       "29       2012\n",
       "         ... \n",
       "52173    2014\n",
       "52174    2014\n",
       "52175    2014\n",
       "52176    2014\n",
       "52177    2014\n",
       "52178    2014\n",
       "52179    2014\n",
       "52180    2014\n",
       "52181    2014\n",
       "52182    2014\n",
       "52183    2014\n",
       "52184    2014\n",
       "52185    2014\n",
       "52186    2014\n",
       "52187    2014\n",
       "52188    2014\n",
       "52189    2014\n",
       "52190    2014\n",
       "52191    2014\n",
       "52192    2014\n",
       "52193    2014\n",
       "52194    2014\n",
       "52195    2014\n",
       "52196    2014\n",
       "52197    2014\n",
       "52198    2014\n",
       "52199    2014\n",
       "52200    2014\n",
       "52201    2014\n",
       "52202    2014\n",
       "Name: year only, Length: 52203, dtype: object"
      ]
     },
     "execution_count": 7,
     "metadata": {},
     "output_type": "execute_result"
    }
   ],
   "source": [
    "Train_1['year only'] = Train_1['month'].str.split('-').str[0]\n",
    "Train_1['year only']"
   ]
  },
  {
   "cell_type": "code",
   "execution_count": 8,
   "metadata": {},
   "outputs": [],
   "source": [
    "Train_1['year only'] = Train_1['year only'].astype('int64')"
   ]
  },
  {
   "cell_type": "code",
   "execution_count": 9,
   "metadata": {},
   "outputs": [
    {
     "data": {
      "text/plain": [
       "0        2085\n",
       "1        2079\n",
       "2        2079\n",
       "3        2083\n",
       "4        2079\n",
       "5        2080\n",
       "6        2077\n",
       "7        2078\n",
       "8        2078\n",
       "9        2084\n",
       "10       2080\n",
       "11       2079\n",
       "12       2079\n",
       "13       2078\n",
       "14       2080\n",
       "15       2077\n",
       "16       2079\n",
       "17       2076\n",
       "18       2080\n",
       "19       2077\n",
       "20       2080\n",
       "21       2080\n",
       "22       2077\n",
       "23       2079\n",
       "24       2079\n",
       "25       2075\n",
       "26       2078\n",
       "27       2080\n",
       "28       2076\n",
       "29       2079\n",
       "         ... \n",
       "52173    2087\n",
       "52174    2087\n",
       "52175    2084\n",
       "52176    2085\n",
       "52177    2084\n",
       "52178    2085\n",
       "52179    2086\n",
       "52180    2084\n",
       "52181    2086\n",
       "52182    2087\n",
       "52183    2086\n",
       "52184    2086\n",
       "52185    2086\n",
       "52186    2086\n",
       "52187    2083\n",
       "52188    2085\n",
       "52189    2092\n",
       "52190    2100\n",
       "52191    2086\n",
       "52192    2099\n",
       "52193    2084\n",
       "52194    2086\n",
       "52195    2086\n",
       "52196    2085\n",
       "52197    2086\n",
       "52198    2087\n",
       "52199    2087\n",
       "52200    2091\n",
       "52201    2084\n",
       "52202    2084\n",
       "Name: lease_ending_year, Length: 52203, dtype: int64"
      ]
     },
     "execution_count": 9,
     "metadata": {},
     "output_type": "execute_result"
    }
   ],
   "source": [
    "Train_1['lease_ending_year'] = Train_1['lease_commence_date']+ 99\n",
    "Train_1['lease_ending_year']"
   ]
  },
  {
   "cell_type": "code",
   "execution_count": 10,
   "metadata": {},
   "outputs": [
    {
     "data": {
      "text/plain": [
       "month                   object\n",
       "town                    object\n",
       "flat_type               object\n",
       "block                   object\n",
       "street_name             object\n",
       "storey_range            object\n",
       "floor_area_sqm         float64\n",
       "flat_model              object\n",
       "lease_commence_date      int64\n",
       "resale_price           float64\n",
       "uniqueID                 int64\n",
       "year only                int64\n",
       "lease_ending_year        int64\n",
       "dtype: object"
      ]
     },
     "execution_count": 10,
     "metadata": {},
     "output_type": "execute_result"
    }
   ],
   "source": [
    "Train_1.dtypes"
   ]
  },
  {
   "cell_type": "code",
   "execution_count": 11,
   "metadata": {},
   "outputs": [],
   "source": [
    "Train_1['remaining_lease'] = Train_1['lease_ending_year'] - Train_1['year only'] "
   ]
  },
  {
   "cell_type": "code",
   "execution_count": 12,
   "metadata": {},
   "outputs": [
    {
     "data": {
      "text/plain": [
       "0        73\n",
       "1        67\n",
       "2        67\n",
       "3        71\n",
       "4        67\n",
       "5        68\n",
       "6        65\n",
       "7        66\n",
       "8        66\n",
       "9        72\n",
       "10       68\n",
       "11       67\n",
       "12       67\n",
       "13       66\n",
       "14       68\n",
       "15       65\n",
       "16       67\n",
       "17       64\n",
       "18       68\n",
       "19       65\n",
       "20       68\n",
       "21       68\n",
       "22       65\n",
       "23       67\n",
       "24       67\n",
       "25       63\n",
       "26       66\n",
       "27       68\n",
       "28       64\n",
       "29       67\n",
       "         ..\n",
       "52173    73\n",
       "52174    73\n",
       "52175    70\n",
       "52176    71\n",
       "52177    70\n",
       "52178    71\n",
       "52179    72\n",
       "52180    70\n",
       "52181    72\n",
       "52182    73\n",
       "52183    72\n",
       "52184    72\n",
       "52185    72\n",
       "52186    72\n",
       "52187    69\n",
       "52188    71\n",
       "52189    78\n",
       "52190    86\n",
       "52191    72\n",
       "52192    85\n",
       "52193    70\n",
       "52194    72\n",
       "52195    72\n",
       "52196    71\n",
       "52197    72\n",
       "52198    73\n",
       "52199    73\n",
       "52200    77\n",
       "52201    70\n",
       "52202    70\n",
       "Name: remaining_lease, Length: 52203, dtype: int64"
      ]
     },
     "execution_count": 12,
     "metadata": {},
     "output_type": "execute_result"
    }
   ],
   "source": [
    "Train_1['remaining_lease']"
   ]
  },
  {
   "cell_type": "markdown",
   "metadata": {},
   "source": [
    "### Now, we are dropping the unnecessary columns in the Train 1 file"
   ]
  },
  {
   "cell_type": "code",
   "execution_count": 13,
   "metadata": {},
   "outputs": [],
   "source": [
    "Train_1.drop(['year only','lease_ending_year'], axis = 1, inplace= True)"
   ]
  },
  {
   "cell_type": "code",
   "execution_count": 14,
   "metadata": {},
   "outputs": [
    {
     "data": {
      "text/plain": [
       "month                   object\n",
       "town                    object\n",
       "flat_type               object\n",
       "block                   object\n",
       "street_name             object\n",
       "storey_range            object\n",
       "floor_area_sqm         float64\n",
       "flat_model              object\n",
       "lease_commence_date      int64\n",
       "resale_price           float64\n",
       "uniqueID                 int64\n",
       "remaining_lease          int64\n",
       "dtype: object"
      ]
     },
     "execution_count": 14,
     "metadata": {},
     "output_type": "execute_result"
    }
   ],
   "source": [
    "Train_1.dtypes"
   ]
  },
  {
   "cell_type": "code",
   "execution_count": 15,
   "metadata": {},
   "outputs": [],
   "source": [
    "Train_3['remaining_lease'] = Train_3['remaining_lease'].str.split(' ').str[0]"
   ]
  },
  {
   "cell_type": "code",
   "execution_count": 16,
   "metadata": {},
   "outputs": [
    {
     "data": {
      "text/plain": [
       "month                   object\n",
       "town                    object\n",
       "flat_type               object\n",
       "block                   object\n",
       "street_name             object\n",
       "storey_range            object\n",
       "floor_area_sqm         float64\n",
       "flat_model              object\n",
       "lease_commence_date      int64\n",
       "remaining_lease          int64\n",
       "resale_price           float64\n",
       "uniqueID                 int64\n",
       "dtype: object"
      ]
     },
     "execution_count": 16,
     "metadata": {},
     "output_type": "execute_result"
    }
   ],
   "source": [
    "Train_2.dtypes\n"
   ]
  },
  {
   "cell_type": "code",
   "execution_count": 17,
   "metadata": {},
   "outputs": [
    {
     "data": {
      "text/plain": [
       "month                   object\n",
       "town                    object\n",
       "flat_type               object\n",
       "block                   object\n",
       "street_name             object\n",
       "storey_range            object\n",
       "floor_area_sqm         float64\n",
       "flat_model              object\n",
       "lease_commence_date      int64\n",
       "remaining_lease         object\n",
       "resale_price           float64\n",
       "uniqueID                 int64\n",
       "dtype: object"
      ]
     },
     "execution_count": 17,
     "metadata": {},
     "output_type": "execute_result"
    }
   ],
   "source": [
    "Train_3.dtypes"
   ]
  },
  {
   "cell_type": "code",
   "execution_count": 18,
   "metadata": {},
   "outputs": [],
   "source": [
    "Train_3['remaining_lease'] = Train_3['remaining_lease'].astype('int64')"
   ]
  },
  {
   "cell_type": "markdown",
   "metadata": {},
   "source": [
    "### Merging the Train1, Train2 & Train3 to Train data"
   ]
  },
  {
   "cell_type": "code",
   "execution_count": 19,
   "metadata": {},
   "outputs": [],
   "source": [
    "Train_data = pd.concat([Train_1,Train_2,Train_3],axis=0)"
   ]
  },
  {
   "cell_type": "code",
   "execution_count": 20,
   "metadata": {},
   "outputs": [
    {
     "data": {
      "text/html": [
       "<div>\n",
       "<style scoped>\n",
       "    .dataframe tbody tr th:only-of-type {\n",
       "        vertical-align: middle;\n",
       "    }\n",
       "\n",
       "    .dataframe tbody tr th {\n",
       "        vertical-align: top;\n",
       "    }\n",
       "\n",
       "    .dataframe thead th {\n",
       "        text-align: right;\n",
       "    }\n",
       "</style>\n",
       "<table border=\"1\" class=\"dataframe\">\n",
       "  <thead>\n",
       "    <tr style=\"text-align: right;\">\n",
       "      <th></th>\n",
       "      <th>block</th>\n",
       "      <th>flat_model</th>\n",
       "      <th>flat_type</th>\n",
       "      <th>floor_area_sqm</th>\n",
       "      <th>lease_commence_date</th>\n",
       "      <th>month</th>\n",
       "      <th>remaining_lease</th>\n",
       "      <th>resale_price</th>\n",
       "      <th>storey_range</th>\n",
       "      <th>street_name</th>\n",
       "      <th>town</th>\n",
       "      <th>uniqueID</th>\n",
       "    </tr>\n",
       "  </thead>\n",
       "  <tbody>\n",
       "    <tr>\n",
       "      <th>0</th>\n",
       "      <td>172</td>\n",
       "      <td>Improved</td>\n",
       "      <td>2 ROOM</td>\n",
       "      <td>45.0</td>\n",
       "      <td>1986</td>\n",
       "      <td>2012-03</td>\n",
       "      <td>73</td>\n",
       "      <td>250000.0</td>\n",
       "      <td>06 TO 10</td>\n",
       "      <td>ANG MO KIO AVE 4</td>\n",
       "      <td>ANG MO KIO</td>\n",
       "      <td>100000</td>\n",
       "    </tr>\n",
       "    <tr>\n",
       "      <th>1</th>\n",
       "      <td>510</td>\n",
       "      <td>Improved</td>\n",
       "      <td>2 ROOM</td>\n",
       "      <td>44.0</td>\n",
       "      <td>1980</td>\n",
       "      <td>2012-03</td>\n",
       "      <td>67</td>\n",
       "      <td>265000.0</td>\n",
       "      <td>01 TO 05</td>\n",
       "      <td>ANG MO KIO AVE 8</td>\n",
       "      <td>ANG MO KIO</td>\n",
       "      <td>100001</td>\n",
       "    </tr>\n",
       "    <tr>\n",
       "      <th>2</th>\n",
       "      <td>610</td>\n",
       "      <td>New Generation</td>\n",
       "      <td>3 ROOM</td>\n",
       "      <td>68.0</td>\n",
       "      <td>1980</td>\n",
       "      <td>2012-03</td>\n",
       "      <td>67</td>\n",
       "      <td>315000.0</td>\n",
       "      <td>06 TO 10</td>\n",
       "      <td>ANG MO KIO AVE 4</td>\n",
       "      <td>ANG MO KIO</td>\n",
       "      <td>100002</td>\n",
       "    </tr>\n",
       "    <tr>\n",
       "      <th>3</th>\n",
       "      <td>474</td>\n",
       "      <td>New Generation</td>\n",
       "      <td>3 ROOM</td>\n",
       "      <td>67.0</td>\n",
       "      <td>1984</td>\n",
       "      <td>2012-03</td>\n",
       "      <td>71</td>\n",
       "      <td>320000.0</td>\n",
       "      <td>01 TO 05</td>\n",
       "      <td>ANG MO KIO AVE 10</td>\n",
       "      <td>ANG MO KIO</td>\n",
       "      <td>100003</td>\n",
       "    </tr>\n",
       "    <tr>\n",
       "      <th>4</th>\n",
       "      <td>604</td>\n",
       "      <td>New Generation</td>\n",
       "      <td>3 ROOM</td>\n",
       "      <td>67.0</td>\n",
       "      <td>1980</td>\n",
       "      <td>2012-03</td>\n",
       "      <td>67</td>\n",
       "      <td>321000.0</td>\n",
       "      <td>06 TO 10</td>\n",
       "      <td>ANG MO KIO AVE 5</td>\n",
       "      <td>ANG MO KIO</td>\n",
       "      <td>100004</td>\n",
       "    </tr>\n",
       "  </tbody>\n",
       "</table>\n",
       "</div>"
      ],
      "text/plain": [
       "  block      flat_model flat_type  floor_area_sqm  lease_commence_date  \\\n",
       "0   172        Improved    2 ROOM            45.0                 1986   \n",
       "1   510        Improved    2 ROOM            44.0                 1980   \n",
       "2   610  New Generation    3 ROOM            68.0                 1980   \n",
       "3   474  New Generation    3 ROOM            67.0                 1984   \n",
       "4   604  New Generation    3 ROOM            67.0                 1980   \n",
       "\n",
       "     month  remaining_lease  resale_price storey_range        street_name  \\\n",
       "0  2012-03               73      250000.0     06 TO 10   ANG MO KIO AVE 4   \n",
       "1  2012-03               67      265000.0     01 TO 05   ANG MO KIO AVE 8   \n",
       "2  2012-03               67      315000.0     06 TO 10   ANG MO KIO AVE 4   \n",
       "3  2012-03               71      320000.0     01 TO 05  ANG MO KIO AVE 10   \n",
       "4  2012-03               67      321000.0     06 TO 10   ANG MO KIO AVE 5   \n",
       "\n",
       "         town  uniqueID  \n",
       "0  ANG MO KIO    100000  \n",
       "1  ANG MO KIO    100001  \n",
       "2  ANG MO KIO    100002  \n",
       "3  ANG MO KIO    100003  \n",
       "4  ANG MO KIO    100004  "
      ]
     },
     "execution_count": 20,
     "metadata": {},
     "output_type": "execute_result"
    }
   ],
   "source": [
    "Train_data.head()"
   ]
  },
  {
   "cell_type": "code",
   "execution_count": 21,
   "metadata": {},
   "outputs": [],
   "source": [
    "Test_data['remaining_lease'] = Test_data['remaining_lease'].str.split(' ').str[0]"
   ]
  },
  {
   "cell_type": "code",
   "execution_count": 22,
   "metadata": {},
   "outputs": [
    {
     "data": {
      "text/plain": [
       "month                   object\n",
       "town                    object\n",
       "flat_type               object\n",
       "block                   object\n",
       "street_name             object\n",
       "storey_range            object\n",
       "floor_area_sqm         float64\n",
       "flat_model              object\n",
       "lease_commence_date      int64\n",
       "remaining_lease         object\n",
       "uniqueID                 int64\n",
       "dtype: object"
      ]
     },
     "execution_count": 22,
     "metadata": {},
     "output_type": "execute_result"
    }
   ],
   "source": [
    "Test_data.dtypes"
   ]
  },
  {
   "cell_type": "code",
   "execution_count": 23,
   "metadata": {},
   "outputs": [
    {
     "data": {
      "text/plain": [
       "block                  0\n",
       "flat_model             0\n",
       "flat_type              0\n",
       "floor_area_sqm         0\n",
       "lease_commence_date    0\n",
       "month                  0\n",
       "remaining_lease        0\n",
       "resale_price           0\n",
       "storey_range           0\n",
       "street_name            0\n",
       "town                   0\n",
       "uniqueID               0\n",
       "dtype: int64"
      ]
     },
     "execution_count": 23,
     "metadata": {},
     "output_type": "execute_result"
    }
   ],
   "source": [
    "Train_data.isnull().sum()"
   ]
  },
  {
   "cell_type": "markdown",
   "metadata": {},
   "source": [
    "### Type casting"
   ]
  },
  {
   "cell_type": "code",
   "execution_count": 24,
   "metadata": {},
   "outputs": [],
   "source": [
    "for col in ('month', 'town', 'flat_type', 'block','street_name','storey_range','flat_model','remaining_lease'):\n",
    "    Train_data[col] = Train_data[col].astype('category')"
   ]
  },
  {
   "cell_type": "markdown",
   "metadata": {},
   "source": [
    "#### Checking the unique values in uniqueID column"
   ]
  },
  {
   "cell_type": "code",
   "execution_count": 25,
   "metadata": {},
   "outputs": [
    {
     "data": {
      "text/plain": [
       "100303    1\n",
       "167291    1\n",
       "142703    1\n",
       "185712    1\n",
       "187761    1\n",
       "181618    1\n",
       "183667    1\n",
       "193908    1\n",
       "195957    1\n",
       "189814    1\n",
       "191863    1\n",
       "169336    1\n",
       "171385    1\n",
       "165242    1\n",
       "177532    1\n",
       "146797    1\n",
       "179581    1\n",
       "173438    1\n",
       "175487    1\n",
       "120208    1\n",
       "122257    1\n",
       "116114    1\n",
       "118163    1\n",
       "128404    1\n",
       "130453    1\n",
       "124310    1\n",
       "126359    1\n",
       "103832    1\n",
       "140654    1\n",
       "144748    1\n",
       "         ..\n",
       "109280    1\n",
       "217791    1\n",
       "219838    1\n",
       "213693    1\n",
       "139921    1\n",
       "146066    1\n",
       "144019    1\n",
       "133780    1\n",
       "131733    1\n",
       "137878    1\n",
       "135831    1\n",
       "158360    1\n",
       "156313    1\n",
       "162458    1\n",
       "160411    1\n",
       "150172    1\n",
       "148125    1\n",
       "154270    1\n",
       "152223    1\n",
       "207536    1\n",
       "205489    1\n",
       "211634    1\n",
       "209587    1\n",
       "199348    1\n",
       "197301    1\n",
       "203446    1\n",
       "201399    1\n",
       "221881    1\n",
       "215740    1\n",
       "100401    1\n",
       "Name: uniqueID, Length: 121934, dtype: int64"
      ]
     },
     "execution_count": 25,
     "metadata": {},
     "output_type": "execute_result"
    }
   ],
   "source": [
    "Train_data.uniqueID.value_counts()"
   ]
  },
  {
   "cell_type": "markdown",
   "metadata": {},
   "source": [
    "#### Checking the unique values in block column"
   ]
  },
  {
   "cell_type": "code",
   "execution_count": 26,
   "metadata": {},
   "outputs": [
    {
     "data": {
      "text/plain": [
       "2       501\n",
       "1       436\n",
       "8       393\n",
       "108     392\n",
       "107     388\n",
       "101     383\n",
       "113     377\n",
       "110     366\n",
       "4       364\n",
       "109     362\n",
       "22      351\n",
       "114     348\n",
       "112     338\n",
       "3       336\n",
       "115     330\n",
       "5       328\n",
       "105     324\n",
       "111     324\n",
       "7       318\n",
       "6       312\n",
       "130     310\n",
       "116     308\n",
       "9       307\n",
       "13      304\n",
       "102     303\n",
       "12      298\n",
       "121     298\n",
       "122     298\n",
       "106     294\n",
       "17      294\n",
       "       ... \n",
       "230F      3\n",
       "150A      3\n",
       "863A      3\n",
       "380       3\n",
       "10F       3\n",
       "92A       3\n",
       "857B      3\n",
       "43A       3\n",
       "223B      3\n",
       "645A      2\n",
       "382       2\n",
       "796A      2\n",
       "886D      2\n",
       "178A      2\n",
       "191B      2\n",
       "42A       2\n",
       "226E      2\n",
       "858B      2\n",
       "860A      2\n",
       "230E      2\n",
       "253A      2\n",
       "905       1\n",
       "863B      1\n",
       "886B      1\n",
       "10C       1\n",
       "856E      1\n",
       "640A      1\n",
       "430A      1\n",
       "430B      1\n",
       "9B        1\n",
       "Name: block, Length: 2216, dtype: int64"
      ]
     },
     "execution_count": 26,
     "metadata": {},
     "output_type": "execute_result"
    }
   ],
   "source": [
    "Train_data.block.value_counts()"
   ]
  },
  {
   "cell_type": "code",
   "execution_count": 27,
   "metadata": {},
   "outputs": [
    {
     "data": {
      "text/plain": [
       "Index(['block', 'flat_model', 'flat_type', 'floor_area_sqm',\n",
       "       'lease_commence_date', 'month', 'remaining_lease', 'resale_price',\n",
       "       'storey_range', 'street_name', 'town', 'uniqueID'],\n",
       "      dtype='object')"
      ]
     },
     "execution_count": 27,
     "metadata": {},
     "output_type": "execute_result"
    }
   ],
   "source": [
    "Train_data.columns"
   ]
  },
  {
   "cell_type": "markdown",
   "metadata": {},
   "source": [
    "## Dropping the uniqueID column from both the train & test since there are all unique values"
   ]
  },
  {
   "cell_type": "code",
   "execution_count": 28,
   "metadata": {},
   "outputs": [],
   "source": [
    "Train_data.drop(\"uniqueID\", axis = 1, inplace= True)"
   ]
  },
  {
   "cell_type": "code",
   "execution_count": 29,
   "metadata": {},
   "outputs": [],
   "source": [
    "Test_data.drop('uniqueID', axis = 1, inplace= True)"
   ]
  },
  {
   "cell_type": "code",
   "execution_count": 30,
   "metadata": {},
   "outputs": [
    {
     "data": {
      "text/html": [
       "<div>\n",
       "<style scoped>\n",
       "    .dataframe tbody tr th:only-of-type {\n",
       "        vertical-align: middle;\n",
       "    }\n",
       "\n",
       "    .dataframe tbody tr th {\n",
       "        vertical-align: top;\n",
       "    }\n",
       "\n",
       "    .dataframe thead th {\n",
       "        text-align: right;\n",
       "    }\n",
       "</style>\n",
       "<table border=\"1\" class=\"dataframe\">\n",
       "  <thead>\n",
       "    <tr style=\"text-align: right;\">\n",
       "      <th></th>\n",
       "      <th>block</th>\n",
       "      <th>flat_model</th>\n",
       "      <th>flat_type</th>\n",
       "      <th>floor_area_sqm</th>\n",
       "      <th>lease_commence_date</th>\n",
       "      <th>month</th>\n",
       "      <th>remaining_lease</th>\n",
       "      <th>resale_price</th>\n",
       "      <th>storey_range</th>\n",
       "      <th>street_name</th>\n",
       "      <th>town</th>\n",
       "    </tr>\n",
       "  </thead>\n",
       "  <tbody>\n",
       "    <tr>\n",
       "      <th>0</th>\n",
       "      <td>172</td>\n",
       "      <td>Improved</td>\n",
       "      <td>2 ROOM</td>\n",
       "      <td>45.0</td>\n",
       "      <td>1986</td>\n",
       "      <td>2012-03</td>\n",
       "      <td>73</td>\n",
       "      <td>250000.0</td>\n",
       "      <td>06 TO 10</td>\n",
       "      <td>ANG MO KIO AVE 4</td>\n",
       "      <td>ANG MO KIO</td>\n",
       "    </tr>\n",
       "    <tr>\n",
       "      <th>1</th>\n",
       "      <td>510</td>\n",
       "      <td>Improved</td>\n",
       "      <td>2 ROOM</td>\n",
       "      <td>44.0</td>\n",
       "      <td>1980</td>\n",
       "      <td>2012-03</td>\n",
       "      <td>67</td>\n",
       "      <td>265000.0</td>\n",
       "      <td>01 TO 05</td>\n",
       "      <td>ANG MO KIO AVE 8</td>\n",
       "      <td>ANG MO KIO</td>\n",
       "    </tr>\n",
       "    <tr>\n",
       "      <th>2</th>\n",
       "      <td>610</td>\n",
       "      <td>New Generation</td>\n",
       "      <td>3 ROOM</td>\n",
       "      <td>68.0</td>\n",
       "      <td>1980</td>\n",
       "      <td>2012-03</td>\n",
       "      <td>67</td>\n",
       "      <td>315000.0</td>\n",
       "      <td>06 TO 10</td>\n",
       "      <td>ANG MO KIO AVE 4</td>\n",
       "      <td>ANG MO KIO</td>\n",
       "    </tr>\n",
       "    <tr>\n",
       "      <th>3</th>\n",
       "      <td>474</td>\n",
       "      <td>New Generation</td>\n",
       "      <td>3 ROOM</td>\n",
       "      <td>67.0</td>\n",
       "      <td>1984</td>\n",
       "      <td>2012-03</td>\n",
       "      <td>71</td>\n",
       "      <td>320000.0</td>\n",
       "      <td>01 TO 05</td>\n",
       "      <td>ANG MO KIO AVE 10</td>\n",
       "      <td>ANG MO KIO</td>\n",
       "    </tr>\n",
       "    <tr>\n",
       "      <th>4</th>\n",
       "      <td>604</td>\n",
       "      <td>New Generation</td>\n",
       "      <td>3 ROOM</td>\n",
       "      <td>67.0</td>\n",
       "      <td>1980</td>\n",
       "      <td>2012-03</td>\n",
       "      <td>67</td>\n",
       "      <td>321000.0</td>\n",
       "      <td>06 TO 10</td>\n",
       "      <td>ANG MO KIO AVE 5</td>\n",
       "      <td>ANG MO KIO</td>\n",
       "    </tr>\n",
       "  </tbody>\n",
       "</table>\n",
       "</div>"
      ],
      "text/plain": [
       "  block      flat_model flat_type  floor_area_sqm  lease_commence_date  \\\n",
       "0   172        Improved    2 ROOM            45.0                 1986   \n",
       "1   510        Improved    2 ROOM            44.0                 1980   \n",
       "2   610  New Generation    3 ROOM            68.0                 1980   \n",
       "3   474  New Generation    3 ROOM            67.0                 1984   \n",
       "4   604  New Generation    3 ROOM            67.0                 1980   \n",
       "\n",
       "     month remaining_lease  resale_price storey_range        street_name  \\\n",
       "0  2012-03              73      250000.0     06 TO 10   ANG MO KIO AVE 4   \n",
       "1  2012-03              67      265000.0     01 TO 05   ANG MO KIO AVE 8   \n",
       "2  2012-03              67      315000.0     06 TO 10   ANG MO KIO AVE 4   \n",
       "3  2012-03              71      320000.0     01 TO 05  ANG MO KIO AVE 10   \n",
       "4  2012-03              67      321000.0     06 TO 10   ANG MO KIO AVE 5   \n",
       "\n",
       "         town  \n",
       "0  ANG MO KIO  \n",
       "1  ANG MO KIO  \n",
       "2  ANG MO KIO  \n",
       "3  ANG MO KIO  \n",
       "4  ANG MO KIO  "
      ]
     },
     "execution_count": 30,
     "metadata": {},
     "output_type": "execute_result"
    }
   ],
   "source": [
    "Train_data.head()"
   ]
  },
  {
   "cell_type": "code",
   "execution_count": 31,
   "metadata": {},
   "outputs": [
    {
     "data": {
      "text/html": [
       "<div>\n",
       "<style scoped>\n",
       "    .dataframe tbody tr th:only-of-type {\n",
       "        vertical-align: middle;\n",
       "    }\n",
       "\n",
       "    .dataframe tbody tr th {\n",
       "        vertical-align: top;\n",
       "    }\n",
       "\n",
       "    .dataframe thead th {\n",
       "        text-align: right;\n",
       "    }\n",
       "</style>\n",
       "<table border=\"1\" class=\"dataframe\">\n",
       "  <thead>\n",
       "    <tr style=\"text-align: right;\">\n",
       "      <th></th>\n",
       "      <th>month</th>\n",
       "      <th>town</th>\n",
       "      <th>flat_type</th>\n",
       "      <th>block</th>\n",
       "      <th>street_name</th>\n",
       "      <th>storey_range</th>\n",
       "      <th>floor_area_sqm</th>\n",
       "      <th>flat_model</th>\n",
       "      <th>lease_commence_date</th>\n",
       "      <th>remaining_lease</th>\n",
       "    </tr>\n",
       "  </thead>\n",
       "  <tbody>\n",
       "    <tr>\n",
       "      <th>0</th>\n",
       "      <td>2018-08</td>\n",
       "      <td>ANG MO KIO</td>\n",
       "      <td>2 ROOM</td>\n",
       "      <td>323</td>\n",
       "      <td>ANG MO KIO AVE 3</td>\n",
       "      <td>01 TO 03</td>\n",
       "      <td>44.0</td>\n",
       "      <td>Improved</td>\n",
       "      <td>1977</td>\n",
       "      <td>57</td>\n",
       "    </tr>\n",
       "    <tr>\n",
       "      <th>1</th>\n",
       "      <td>2018-08</td>\n",
       "      <td>ANG MO KIO</td>\n",
       "      <td>3 ROOM</td>\n",
       "      <td>220</td>\n",
       "      <td>ANG MO KIO AVE 1</td>\n",
       "      <td>07 TO 09</td>\n",
       "      <td>82.0</td>\n",
       "      <td>New Generation</td>\n",
       "      <td>1977</td>\n",
       "      <td>57</td>\n",
       "    </tr>\n",
       "    <tr>\n",
       "      <th>2</th>\n",
       "      <td>2018-08</td>\n",
       "      <td>ANG MO KIO</td>\n",
       "      <td>3 ROOM</td>\n",
       "      <td>220</td>\n",
       "      <td>ANG MO KIO AVE 1</td>\n",
       "      <td>07 TO 09</td>\n",
       "      <td>67.0</td>\n",
       "      <td>New Generation</td>\n",
       "      <td>1977</td>\n",
       "      <td>57</td>\n",
       "    </tr>\n",
       "    <tr>\n",
       "      <th>3</th>\n",
       "      <td>2018-08</td>\n",
       "      <td>ANG MO KIO</td>\n",
       "      <td>3 ROOM</td>\n",
       "      <td>445</td>\n",
       "      <td>ANG MO KIO AVE 10</td>\n",
       "      <td>01 TO 03</td>\n",
       "      <td>67.0</td>\n",
       "      <td>New Generation</td>\n",
       "      <td>1979</td>\n",
       "      <td>60</td>\n",
       "    </tr>\n",
       "    <tr>\n",
       "      <th>4</th>\n",
       "      <td>2018-08</td>\n",
       "      <td>ANG MO KIO</td>\n",
       "      <td>3 ROOM</td>\n",
       "      <td>471</td>\n",
       "      <td>ANG MO KIO AVE 10</td>\n",
       "      <td>01 TO 03</td>\n",
       "      <td>67.0</td>\n",
       "      <td>New Generation</td>\n",
       "      <td>1979</td>\n",
       "      <td>59</td>\n",
       "    </tr>\n",
       "  </tbody>\n",
       "</table>\n",
       "</div>"
      ],
      "text/plain": [
       "     month        town flat_type block        street_name storey_range  \\\n",
       "0  2018-08  ANG MO KIO    2 ROOM   323   ANG MO KIO AVE 3     01 TO 03   \n",
       "1  2018-08  ANG MO KIO    3 ROOM   220   ANG MO KIO AVE 1     07 TO 09   \n",
       "2  2018-08  ANG MO KIO    3 ROOM   220   ANG MO KIO AVE 1     07 TO 09   \n",
       "3  2018-08  ANG MO KIO    3 ROOM   445  ANG MO KIO AVE 10     01 TO 03   \n",
       "4  2018-08  ANG MO KIO    3 ROOM   471  ANG MO KIO AVE 10     01 TO 03   \n",
       "\n",
       "   floor_area_sqm      flat_model  lease_commence_date remaining_lease  \n",
       "0            44.0        Improved                 1977              57  \n",
       "1            82.0  New Generation                 1977              57  \n",
       "2            67.0  New Generation                 1977              57  \n",
       "3            67.0  New Generation                 1979              60  \n",
       "4            67.0  New Generation                 1979              59  "
      ]
     },
     "execution_count": 31,
     "metadata": {},
     "output_type": "execute_result"
    }
   ],
   "source": [
    "Test_data.head()"
   ]
  },
  {
   "cell_type": "code",
   "execution_count": 32,
   "metadata": {},
   "outputs": [
    {
     "data": {
      "text/html": [
       "<div>\n",
       "<style scoped>\n",
       "    .dataframe tbody tr th:only-of-type {\n",
       "        vertical-align: middle;\n",
       "    }\n",
       "\n",
       "    .dataframe tbody tr th {\n",
       "        vertical-align: top;\n",
       "    }\n",
       "\n",
       "    .dataframe thead th {\n",
       "        text-align: right;\n",
       "    }\n",
       "</style>\n",
       "<table border=\"1\" class=\"dataframe\">\n",
       "  <thead>\n",
       "    <tr style=\"text-align: right;\">\n",
       "      <th></th>\n",
       "      <th>block</th>\n",
       "      <th>flat_model</th>\n",
       "      <th>flat_type</th>\n",
       "      <th>floor_area_sqm</th>\n",
       "      <th>lease_commence_date</th>\n",
       "      <th>month</th>\n",
       "      <th>remaining_lease</th>\n",
       "      <th>resale_price</th>\n",
       "      <th>storey_range</th>\n",
       "      <th>street_name</th>\n",
       "      <th>town</th>\n",
       "    </tr>\n",
       "  </thead>\n",
       "  <tbody>\n",
       "    <tr>\n",
       "      <th>count</th>\n",
       "      <td>121934</td>\n",
       "      <td>121934</td>\n",
       "      <td>121934</td>\n",
       "      <td>121934.000000</td>\n",
       "      <td>121934.000000</td>\n",
       "      <td>121934</td>\n",
       "      <td>121934.0</td>\n",
       "      <td>1.219340e+05</td>\n",
       "      <td>121934</td>\n",
       "      <td>121934</td>\n",
       "      <td>121934</td>\n",
       "    </tr>\n",
       "    <tr>\n",
       "      <th>unique</th>\n",
       "      <td>2216</td>\n",
       "      <td>21</td>\n",
       "      <td>7</td>\n",
       "      <td>NaN</td>\n",
       "      <td>NaN</td>\n",
       "      <td>77</td>\n",
       "      <td>52.0</td>\n",
       "      <td>NaN</td>\n",
       "      <td>25</td>\n",
       "      <td>527</td>\n",
       "      <td>26</td>\n",
       "    </tr>\n",
       "    <tr>\n",
       "      <th>top</th>\n",
       "      <td>2</td>\n",
       "      <td>Model A</td>\n",
       "      <td>4 ROOM</td>\n",
       "      <td>NaN</td>\n",
       "      <td>NaN</td>\n",
       "      <td>2018-07</td>\n",
       "      <td>70.0</td>\n",
       "      <td>NaN</td>\n",
       "      <td>04 TO 06</td>\n",
       "      <td>YISHUN RING RD</td>\n",
       "      <td>JURONG WEST</td>\n",
       "    </tr>\n",
       "    <tr>\n",
       "      <th>freq</th>\n",
       "      <td>501</td>\n",
       "      <td>35539</td>\n",
       "      <td>48744</td>\n",
       "      <td>NaN</td>\n",
       "      <td>NaN</td>\n",
       "      <td>2539</td>\n",
       "      <td>5023.0</td>\n",
       "      <td>NaN</td>\n",
       "      <td>27861</td>\n",
       "      <td>2085</td>\n",
       "      <td>9807</td>\n",
       "    </tr>\n",
       "    <tr>\n",
       "      <th>mean</th>\n",
       "      <td>NaN</td>\n",
       "      <td>NaN</td>\n",
       "      <td>NaN</td>\n",
       "      <td>96.998518</td>\n",
       "      <td>1990.887538</td>\n",
       "      <td>NaN</td>\n",
       "      <td>NaN</td>\n",
       "      <td>4.494886e+05</td>\n",
       "      <td>NaN</td>\n",
       "      <td>NaN</td>\n",
       "      <td>NaN</td>\n",
       "    </tr>\n",
       "    <tr>\n",
       "      <th>std</th>\n",
       "      <td>NaN</td>\n",
       "      <td>NaN</td>\n",
       "      <td>NaN</td>\n",
       "      <td>24.559239</td>\n",
       "      <td>10.963790</td>\n",
       "      <td>NaN</td>\n",
       "      <td>NaN</td>\n",
       "      <td>1.357230e+05</td>\n",
       "      <td>NaN</td>\n",
       "      <td>NaN</td>\n",
       "      <td>NaN</td>\n",
       "    </tr>\n",
       "    <tr>\n",
       "      <th>min</th>\n",
       "      <td>NaN</td>\n",
       "      <td>NaN</td>\n",
       "      <td>NaN</td>\n",
       "      <td>31.000000</td>\n",
       "      <td>1966.000000</td>\n",
       "      <td>NaN</td>\n",
       "      <td>NaN</td>\n",
       "      <td>1.700000e+05</td>\n",
       "      <td>NaN</td>\n",
       "      <td>NaN</td>\n",
       "      <td>NaN</td>\n",
       "    </tr>\n",
       "    <tr>\n",
       "      <th>25%</th>\n",
       "      <td>NaN</td>\n",
       "      <td>NaN</td>\n",
       "      <td>NaN</td>\n",
       "      <td>74.000000</td>\n",
       "      <td>1984.000000</td>\n",
       "      <td>NaN</td>\n",
       "      <td>NaN</td>\n",
       "      <td>3.500000e+05</td>\n",
       "      <td>NaN</td>\n",
       "      <td>NaN</td>\n",
       "      <td>NaN</td>\n",
       "    </tr>\n",
       "    <tr>\n",
       "      <th>50%</th>\n",
       "      <td>NaN</td>\n",
       "      <td>NaN</td>\n",
       "      <td>NaN</td>\n",
       "      <td>96.000000</td>\n",
       "      <td>1989.000000</td>\n",
       "      <td>NaN</td>\n",
       "      <td>NaN</td>\n",
       "      <td>4.230000e+05</td>\n",
       "      <td>NaN</td>\n",
       "      <td>NaN</td>\n",
       "      <td>NaN</td>\n",
       "    </tr>\n",
       "    <tr>\n",
       "      <th>75%</th>\n",
       "      <td>NaN</td>\n",
       "      <td>NaN</td>\n",
       "      <td>NaN</td>\n",
       "      <td>112.000000</td>\n",
       "      <td>2000.000000</td>\n",
       "      <td>NaN</td>\n",
       "      <td>NaN</td>\n",
       "      <td>5.150000e+05</td>\n",
       "      <td>NaN</td>\n",
       "      <td>NaN</td>\n",
       "      <td>NaN</td>\n",
       "    </tr>\n",
       "    <tr>\n",
       "      <th>max</th>\n",
       "      <td>NaN</td>\n",
       "      <td>NaN</td>\n",
       "      <td>NaN</td>\n",
       "      <td>280.000000</td>\n",
       "      <td>2016.000000</td>\n",
       "      <td>NaN</td>\n",
       "      <td>NaN</td>\n",
       "      <td>1.180000e+06</td>\n",
       "      <td>NaN</td>\n",
       "      <td>NaN</td>\n",
       "      <td>NaN</td>\n",
       "    </tr>\n",
       "  </tbody>\n",
       "</table>\n",
       "</div>"
      ],
      "text/plain": [
       "         block flat_model flat_type  floor_area_sqm  lease_commence_date  \\\n",
       "count   121934     121934    121934   121934.000000        121934.000000   \n",
       "unique    2216         21         7             NaN                  NaN   \n",
       "top          2    Model A    4 ROOM             NaN                  NaN   \n",
       "freq       501      35539     48744             NaN                  NaN   \n",
       "mean       NaN        NaN       NaN       96.998518          1990.887538   \n",
       "std        NaN        NaN       NaN       24.559239            10.963790   \n",
       "min        NaN        NaN       NaN       31.000000          1966.000000   \n",
       "25%        NaN        NaN       NaN       74.000000          1984.000000   \n",
       "50%        NaN        NaN       NaN       96.000000          1989.000000   \n",
       "75%        NaN        NaN       NaN      112.000000          2000.000000   \n",
       "max        NaN        NaN       NaN      280.000000          2016.000000   \n",
       "\n",
       "          month  remaining_lease  resale_price storey_range     street_name  \\\n",
       "count    121934         121934.0  1.219340e+05       121934          121934   \n",
       "unique       77             52.0           NaN           25             527   \n",
       "top     2018-07             70.0           NaN     04 TO 06  YISHUN RING RD   \n",
       "freq       2539           5023.0           NaN        27861            2085   \n",
       "mean        NaN              NaN  4.494886e+05          NaN             NaN   \n",
       "std         NaN              NaN  1.357230e+05          NaN             NaN   \n",
       "min         NaN              NaN  1.700000e+05          NaN             NaN   \n",
       "25%         NaN              NaN  3.500000e+05          NaN             NaN   \n",
       "50%         NaN              NaN  4.230000e+05          NaN             NaN   \n",
       "75%         NaN              NaN  5.150000e+05          NaN             NaN   \n",
       "max         NaN              NaN  1.180000e+06          NaN             NaN   \n",
       "\n",
       "               town  \n",
       "count        121934  \n",
       "unique           26  \n",
       "top     JURONG WEST  \n",
       "freq           9807  \n",
       "mean            NaN  \n",
       "std             NaN  \n",
       "min             NaN  \n",
       "25%             NaN  \n",
       "50%             NaN  \n",
       "75%             NaN  \n",
       "max             NaN  "
      ]
     },
     "execution_count": 32,
     "metadata": {},
     "output_type": "execute_result"
    }
   ],
   "source": [
    "Train_data.describe(include='all')"
   ]
  },
  {
   "cell_type": "code",
   "execution_count": 33,
   "metadata": {},
   "outputs": [
    {
     "data": {
      "text/html": [
       "<div>\n",
       "<style scoped>\n",
       "    .dataframe tbody tr th:only-of-type {\n",
       "        vertical-align: middle;\n",
       "    }\n",
       "\n",
       "    .dataframe tbody tr th {\n",
       "        vertical-align: top;\n",
       "    }\n",
       "\n",
       "    .dataframe thead th {\n",
       "        text-align: right;\n",
       "    }\n",
       "</style>\n",
       "<table border=\"1\" class=\"dataframe\">\n",
       "  <thead>\n",
       "    <tr style=\"text-align: right;\">\n",
       "      <th></th>\n",
       "      <th>month</th>\n",
       "      <th>town</th>\n",
       "      <th>flat_type</th>\n",
       "      <th>block</th>\n",
       "      <th>street_name</th>\n",
       "      <th>storey_range</th>\n",
       "      <th>floor_area_sqm</th>\n",
       "      <th>flat_model</th>\n",
       "      <th>lease_commence_date</th>\n",
       "      <th>remaining_lease</th>\n",
       "    </tr>\n",
       "  </thead>\n",
       "  <tbody>\n",
       "    <tr>\n",
       "      <th>count</th>\n",
       "      <td>21846</td>\n",
       "      <td>21846</td>\n",
       "      <td>21846</td>\n",
       "      <td>21846</td>\n",
       "      <td>21846</td>\n",
       "      <td>21846</td>\n",
       "      <td>21846.000000</td>\n",
       "      <td>21846</td>\n",
       "      <td>21846.000000</td>\n",
       "      <td>21846</td>\n",
       "    </tr>\n",
       "    <tr>\n",
       "      <th>unique</th>\n",
       "      <td>12</td>\n",
       "      <td>26</td>\n",
       "      <td>7</td>\n",
       "      <td>2193</td>\n",
       "      <td>532</td>\n",
       "      <td>17</td>\n",
       "      <td>NaN</td>\n",
       "      <td>19</td>\n",
       "      <td>NaN</td>\n",
       "      <td>51</td>\n",
       "    </tr>\n",
       "    <tr>\n",
       "      <th>top</th>\n",
       "      <td>2019-07</td>\n",
       "      <td>WOODLANDS</td>\n",
       "      <td>4 ROOM</td>\n",
       "      <td>2</td>\n",
       "      <td>YISHUN RING RD</td>\n",
       "      <td>04 TO 06</td>\n",
       "      <td>NaN</td>\n",
       "      <td>Model A</td>\n",
       "      <td>NaN</td>\n",
       "      <td>65</td>\n",
       "    </tr>\n",
       "    <tr>\n",
       "      <th>freq</th>\n",
       "      <td>2123</td>\n",
       "      <td>1802</td>\n",
       "      <td>9106</td>\n",
       "      <td>83</td>\n",
       "      <td>315</td>\n",
       "      <td>5160</td>\n",
       "      <td>NaN</td>\n",
       "      <td>7370</td>\n",
       "      <td>NaN</td>\n",
       "      <td>1423</td>\n",
       "    </tr>\n",
       "    <tr>\n",
       "      <th>mean</th>\n",
       "      <td>NaN</td>\n",
       "      <td>NaN</td>\n",
       "      <td>NaN</td>\n",
       "      <td>NaN</td>\n",
       "      <td>NaN</td>\n",
       "      <td>NaN</td>\n",
       "      <td>97.425744</td>\n",
       "      <td>NaN</td>\n",
       "      <td>1993.758354</td>\n",
       "      <td>NaN</td>\n",
       "    </tr>\n",
       "    <tr>\n",
       "      <th>std</th>\n",
       "      <td>NaN</td>\n",
       "      <td>NaN</td>\n",
       "      <td>NaN</td>\n",
       "      <td>NaN</td>\n",
       "      <td>NaN</td>\n",
       "      <td>NaN</td>\n",
       "      <td>24.250775</td>\n",
       "      <td>NaN</td>\n",
       "      <td>12.643644</td>\n",
       "      <td>NaN</td>\n",
       "    </tr>\n",
       "    <tr>\n",
       "      <th>min</th>\n",
       "      <td>NaN</td>\n",
       "      <td>NaN</td>\n",
       "      <td>NaN</td>\n",
       "      <td>NaN</td>\n",
       "      <td>NaN</td>\n",
       "      <td>NaN</td>\n",
       "      <td>31.000000</td>\n",
       "      <td>NaN</td>\n",
       "      <td>1966.000000</td>\n",
       "      <td>NaN</td>\n",
       "    </tr>\n",
       "    <tr>\n",
       "      <th>25%</th>\n",
       "      <td>NaN</td>\n",
       "      <td>NaN</td>\n",
       "      <td>NaN</td>\n",
       "      <td>NaN</td>\n",
       "      <td>NaN</td>\n",
       "      <td>NaN</td>\n",
       "      <td>81.000000</td>\n",
       "      <td>NaN</td>\n",
       "      <td>1984.000000</td>\n",
       "      <td>NaN</td>\n",
       "    </tr>\n",
       "    <tr>\n",
       "      <th>50%</th>\n",
       "      <td>NaN</td>\n",
       "      <td>NaN</td>\n",
       "      <td>NaN</td>\n",
       "      <td>NaN</td>\n",
       "      <td>NaN</td>\n",
       "      <td>NaN</td>\n",
       "      <td>95.000000</td>\n",
       "      <td>NaN</td>\n",
       "      <td>1993.000000</td>\n",
       "      <td>NaN</td>\n",
       "    </tr>\n",
       "    <tr>\n",
       "      <th>75%</th>\n",
       "      <td>NaN</td>\n",
       "      <td>NaN</td>\n",
       "      <td>NaN</td>\n",
       "      <td>NaN</td>\n",
       "      <td>NaN</td>\n",
       "      <td>NaN</td>\n",
       "      <td>112.000000</td>\n",
       "      <td>NaN</td>\n",
       "      <td>2003.000000</td>\n",
       "      <td>NaN</td>\n",
       "    </tr>\n",
       "    <tr>\n",
       "      <th>max</th>\n",
       "      <td>NaN</td>\n",
       "      <td>NaN</td>\n",
       "      <td>NaN</td>\n",
       "      <td>NaN</td>\n",
       "      <td>NaN</td>\n",
       "      <td>NaN</td>\n",
       "      <td>237.000000</td>\n",
       "      <td>NaN</td>\n",
       "      <td>2016.000000</td>\n",
       "      <td>NaN</td>\n",
       "    </tr>\n",
       "  </tbody>\n",
       "</table>\n",
       "</div>"
      ],
      "text/plain": [
       "          month       town flat_type  block     street_name storey_range  \\\n",
       "count     21846      21846     21846  21846           21846        21846   \n",
       "unique       12         26         7   2193             532           17   \n",
       "top     2019-07  WOODLANDS    4 ROOM      2  YISHUN RING RD     04 TO 06   \n",
       "freq       2123       1802      9106     83             315         5160   \n",
       "mean        NaN        NaN       NaN    NaN             NaN          NaN   \n",
       "std         NaN        NaN       NaN    NaN             NaN          NaN   \n",
       "min         NaN        NaN       NaN    NaN             NaN          NaN   \n",
       "25%         NaN        NaN       NaN    NaN             NaN          NaN   \n",
       "50%         NaN        NaN       NaN    NaN             NaN          NaN   \n",
       "75%         NaN        NaN       NaN    NaN             NaN          NaN   \n",
       "max         NaN        NaN       NaN    NaN             NaN          NaN   \n",
       "\n",
       "        floor_area_sqm flat_model  lease_commence_date remaining_lease  \n",
       "count     21846.000000      21846         21846.000000           21846  \n",
       "unique             NaN         19                  NaN              51  \n",
       "top                NaN    Model A                  NaN              65  \n",
       "freq               NaN       7370                  NaN            1423  \n",
       "mean         97.425744        NaN          1993.758354             NaN  \n",
       "std          24.250775        NaN            12.643644             NaN  \n",
       "min          31.000000        NaN          1966.000000             NaN  \n",
       "25%          81.000000        NaN          1984.000000             NaN  \n",
       "50%          95.000000        NaN          1993.000000             NaN  \n",
       "75%         112.000000        NaN          2003.000000             NaN  \n",
       "max         237.000000        NaN          2016.000000             NaN  "
      ]
     },
     "execution_count": 33,
     "metadata": {},
     "output_type": "execute_result"
    }
   ],
   "source": [
    "Test_data.describe(include='all')"
   ]
  },
  {
   "cell_type": "code",
   "execution_count": 34,
   "metadata": {},
   "outputs": [
    {
     "data": {
      "text/plain": [
       "2       83\n",
       "8       80\n",
       "13      70\n",
       "1       69\n",
       "9       66\n",
       "109     66\n",
       "12      66\n",
       "101     65\n",
       "23      62\n",
       "121     61\n",
       "102     61\n",
       "115     61\n",
       "20      60\n",
       "113     60\n",
       "114     60\n",
       "3       59\n",
       "110     57\n",
       "112     56\n",
       "107     56\n",
       "105     56\n",
       "103     55\n",
       "7       54\n",
       "21      51\n",
       "6       51\n",
       "130     50\n",
       "4       49\n",
       "34      48\n",
       "111     48\n",
       "117     48\n",
       "420     48\n",
       "        ..\n",
       "688E     1\n",
       "123D     1\n",
       "641B     1\n",
       "287D     1\n",
       "325B     1\n",
       "972      1\n",
       "261A     1\n",
       "267C     1\n",
       "689E     1\n",
       "654C     1\n",
       "338B     1\n",
       "119A     1\n",
       "311D     1\n",
       "3B       1\n",
       "515D     1\n",
       "642A     1\n",
       "285A     1\n",
       "352C     1\n",
       "226B     1\n",
       "893      1\n",
       "317D     1\n",
       "654A     1\n",
       "664D     1\n",
       "225C     1\n",
       "150A     1\n",
       "353C     1\n",
       "23A      1\n",
       "487B     1\n",
       "788E     1\n",
       "493E     1\n",
       "Name: block, Length: 2193, dtype: int64"
      ]
     },
     "execution_count": 34,
     "metadata": {},
     "output_type": "execute_result"
    }
   ],
   "source": [
    "Test_data.block.value_counts()"
   ]
  },
  {
   "cell_type": "markdown",
   "metadata": {},
   "source": [
    "### Separating the numerical & categorical columns for pipeline"
   ]
  },
  {
   "cell_type": "code",
   "execution_count": 35,
   "metadata": {},
   "outputs": [
    {
     "name": "stdout",
     "output_type": "stream",
     "text": [
      "['block', 'flat_model', 'flat_type', 'month', 'remaining_lease', 'storey_range', 'street_name', 'town'] ['floor_area_sqm', 'lease_commence_date']\n"
     ]
    }
   ],
   "source": [
    "cat_attr_train = list(Train_data.select_dtypes(\"category\").columns)\n",
    "num_attr_train = list(Train_data.columns.difference(cat_attr_train))\n",
    "\n",
    "num_attr_train.remove('resale_price')\n",
    "\n",
    "print(cat_attr_train,num_attr_train)"
   ]
  },
  {
   "cell_type": "markdown",
   "metadata": {},
   "source": [
    "## DATA Visualisation"
   ]
  },
  {
   "cell_type": "markdown",
   "metadata": {},
   "source": [
    "# Data Visualisation is explained on different file."
   ]
  },
  {
   "cell_type": "markdown",
   "metadata": {},
   "source": [
    "### Creating a Pipeline"
   ]
  },
  {
   "cell_type": "code",
   "execution_count": 36,
   "metadata": {},
   "outputs": [],
   "source": [
    "train_num_attr = Pipeline(steps=[\n",
    "    ('imputer', SimpleImputer(strategy='median')),\n",
    "    ('scaler', StandardScaler())])\n",
    "\n",
    "train_cat_attr = Pipeline(steps=[\n",
    "    ('imputer', SimpleImputer(strategy='most_frequent', fill_value='missing')),\n",
    "    ('onehot', OneHotEncoder(handle_unknown='ignore'))])\n",
    "\n",
    "preprocessor = ColumnTransformer(\n",
    "    transformers=[\n",
    "        ('num', train_num_attr, num_attr_train),\n",
    "        ('cat', train_cat_attr, cat_attr_train)])"
   ]
  },
  {
   "cell_type": "code",
   "execution_count": 37,
   "metadata": {},
   "outputs": [],
   "source": [
    "y = Train_data[\"resale_price\"]\n",
    "x = Train_data.drop([\"resale_price\"], axis = 1)\n",
    "\n",
    "X_train, X_test, y_train, y_test = train_test_split(x, y, test_size = 0.3, random_state = 123)"
   ]
  },
  {
   "cell_type": "code",
   "execution_count": 38,
   "metadata": {},
   "outputs": [
    {
     "data": {
      "text/plain": [
       "(85353, 10)"
      ]
     },
     "execution_count": 38,
     "metadata": {},
     "output_type": "execute_result"
    }
   ],
   "source": [
    "X_train.shape"
   ]
  },
  {
   "cell_type": "code",
   "execution_count": 39,
   "metadata": {},
   "outputs": [
    {
     "data": {
      "text/plain": [
       "(36581, 10)"
      ]
     },
     "execution_count": 39,
     "metadata": {},
     "output_type": "execute_result"
    }
   ],
   "source": [
    "X_test.shape"
   ]
  },
  {
   "cell_type": "markdown",
   "metadata": {},
   "source": [
    "## Buliding a Linear regression model"
   ]
  },
  {
   "cell_type": "code",
   "execution_count": 40,
   "metadata": {},
   "outputs": [],
   "source": [
    "lin_reg = Pipeline(steps=[('preprocessor', preprocessor),\n",
    "                      ('regressor', LinearRegression())])"
   ]
  },
  {
   "cell_type": "code",
   "execution_count": 41,
   "metadata": {},
   "outputs": [
    {
     "data": {
      "text/plain": [
       "Pipeline(memory=None,\n",
       "         steps=[('preprocessor',\n",
       "                 ColumnTransformer(n_jobs=None, remainder='drop',\n",
       "                                   sparse_threshold=0.3,\n",
       "                                   transformer_weights=None,\n",
       "                                   transformers=[('num',\n",
       "                                                  Pipeline(memory=None,\n",
       "                                                           steps=[('imputer',\n",
       "                                                                   SimpleImputer(add_indicator=False,\n",
       "                                                                                 copy=True,\n",
       "                                                                                 fill_value=None,\n",
       "                                                                                 missing_values=nan,\n",
       "                                                                                 strategy='median',\n",
       "                                                                                 verbose=0)),\n",
       "                                                                  ('scaler',\n",
       "                                                                   StandardScaler(copy=True,\n",
       "                                                                                  with_mean...\n",
       "                                                                   OneHotEncoder(categorical_features=None,\n",
       "                                                                                 categories=None,\n",
       "                                                                                 drop=None,\n",
       "                                                                                 dtype=<class 'numpy.float64'>,\n",
       "                                                                                 handle_unknown='ignore',\n",
       "                                                                                 n_values=None,\n",
       "                                                                                 sparse=True))],\n",
       "                                                           verbose=False),\n",
       "                                                  ['block', 'flat_model',\n",
       "                                                   'flat_type', 'month',\n",
       "                                                   'remaining_lease',\n",
       "                                                   'storey_range',\n",
       "                                                   'street_name', 'town'])],\n",
       "                                   verbose=False)),\n",
       "                ('regressor',\n",
       "                 LinearRegression(copy_X=True, fit_intercept=True, n_jobs=None,\n",
       "                                  normalize=False))],\n",
       "         verbose=False)"
      ]
     },
     "execution_count": 41,
     "metadata": {},
     "output_type": "execute_result"
    }
   ],
   "source": [
    "lin_reg.fit(X_train, y_train)"
   ]
  },
  {
   "cell_type": "code",
   "execution_count": 42,
   "metadata": {},
   "outputs": [
    {
     "name": "stdout",
     "output_type": "stream",
     "text": [
      "0.940785002885975\n",
      "0.9360276702663738\n"
     ]
    }
   ],
   "source": [
    "train_pred = lin_reg.predict(X_train)\n",
    "test_pred = lin_reg.predict(X_test)\n",
    "\n",
    "print(lin_reg.score(X_train, y_train))\n",
    "print(lin_reg.score(X_test, y_test))"
   ]
  },
  {
   "cell_type": "code",
   "execution_count": 43,
   "metadata": {},
   "outputs": [],
   "source": [
    "from sklearn.metrics import mean_squared_error\n",
    "from sklearn.metrics import r2_score\n",
    "test_set_rmse = np.sqrt(mean_squared_error(y_test, test_pred))\n",
    "train_set_rmse = np.sqrt(mean_squared_error(y_train, train_pred))\n",
    "\n",
    "test_set_r2 = r2_score(y_test, test_pred)\n",
    "train_set_r2 = r2_score(y_train, train_pred)"
   ]
  },
  {
   "cell_type": "markdown",
   "metadata": {},
   "source": [
    "### Printing the rmse values"
   ]
  },
  {
   "cell_type": "code",
   "execution_count": 44,
   "metadata": {},
   "outputs": [
    {
     "name": "stdout",
     "output_type": "stream",
     "text": [
      "34265.64079382842\n",
      "0.9360276702663737\n",
      "33052.49535051759\n",
      "0.940785002885975\n"
     ]
    }
   ],
   "source": [
    "print(test_set_rmse)\n",
    "print(test_set_r2)\n",
    "print(train_set_rmse)\n",
    "print(train_set_r2)"
   ]
  },
  {
   "cell_type": "code",
   "execution_count": 45,
   "metadata": {},
   "outputs": [],
   "source": [
    "Test_pred = lin_reg.predict(Test_data)"
   ]
  },
  {
   "cell_type": "markdown",
   "metadata": {},
   "source": [
    "### creating a csv file for submission"
   ]
  },
  {
   "cell_type": "code",
   "execution_count": 46,
   "metadata": {},
   "outputs": [
    {
     "data": {
      "text/plain": [
       "(21846, 2)"
      ]
     },
     "execution_count": 46,
     "metadata": {},
     "output_type": "execute_result"
    }
   ],
   "source": [
    "DF = pd.DataFrame(list(zip(df['uniqueID'],Test_pred)),columns=['uniqueID','resale_price'])\n",
    "DF.to_csv(\"LGTESTPREDICTIONS.csv\",index=False)\n",
    "DF.shape"
   ]
  },
  {
   "cell_type": "markdown",
   "metadata": {},
   "source": [
    "## Building a Random Forest Model with gridcv"
   ]
  },
  {
   "cell_type": "code",
   "execution_count": 47,
   "metadata": {},
   "outputs": [],
   "source": [
    "RF_Reg = Pipeline(steps=[('preprocessor', preprocessor),\n",
    "                      ('rfr', RandomForestRegressor())])"
   ]
  },
  {
   "cell_type": "code",
   "execution_count": 48,
   "metadata": {},
   "outputs": [],
   "source": [
    "RF_param_grid = {\"rfr__n_estimators\" : [10, 15],\n",
    "              \"rfr__max_depth\" : [5,8],\n",
    "              \"rfr__max_features\" : [3, 5],\n",
    "              \"rfr__min_samples_leaf\" : [4, 6]}\n",
    "\n",
    "rf_grid = GridSearchCV(RF_Reg, param_grid=RF_param_grid, cv=5)"
   ]
  },
  {
   "cell_type": "code",
   "execution_count": 49,
   "metadata": {},
   "outputs": [
    {
     "data": {
      "text/plain": [
       "GridSearchCV(cv=5, error_score='raise-deprecating',\n",
       "             estimator=Pipeline(memory=None,\n",
       "                                steps=[('preprocessor',\n",
       "                                        ColumnTransformer(n_jobs=None,\n",
       "                                                          remainder='drop',\n",
       "                                                          sparse_threshold=0.3,\n",
       "                                                          transformer_weights=None,\n",
       "                                                          transformers=[('num',\n",
       "                                                                         Pipeline(memory=None,\n",
       "                                                                                  steps=[('imputer',\n",
       "                                                                                          SimpleImputer(add_indicator=False,\n",
       "                                                                                                        copy=True,\n",
       "                                                                                                        fill_value=None,\n",
       "                                                                                                        missing_values=nan,\n",
       "                                                                                                        strategy='medi...\n",
       "                                                              min_weight_fraction_leaf=0.0,\n",
       "                                                              n_estimators='warn',\n",
       "                                                              n_jobs=None,\n",
       "                                                              oob_score=False,\n",
       "                                                              random_state=None,\n",
       "                                                              verbose=0,\n",
       "                                                              warm_start=False))],\n",
       "                                verbose=False),\n",
       "             iid='warn', n_jobs=None,\n",
       "             param_grid={'rfr__max_depth': [5, 8], 'rfr__max_features': [3, 5],\n",
       "                         'rfr__min_samples_leaf': [4, 6],\n",
       "                         'rfr__n_estimators': [10, 15]},\n",
       "             pre_dispatch='2*n_jobs', refit=True, return_train_score=False,\n",
       "             scoring=None, verbose=0)"
      ]
     },
     "execution_count": 49,
     "metadata": {},
     "output_type": "execute_result"
    }
   ],
   "source": [
    "rf_grid.fit(X_train, y_train)"
   ]
  },
  {
   "cell_type": "code",
   "execution_count": 50,
   "metadata": {},
   "outputs": [],
   "source": [
    "train_pred_rf = rf_grid.predict(X_train)\n",
    "test_pred_rf = rf_grid.predict(X_test)"
   ]
  },
  {
   "cell_type": "code",
   "execution_count": 51,
   "metadata": {},
   "outputs": [],
   "source": [
    "test_set_rmse1 = np.sqrt(mean_squared_error(y_test, test_pred_rf))\n",
    "train_set_rmse1 = np.sqrt(mean_squared_error(y_train, train_pred_rf))"
   ]
  },
  {
   "cell_type": "code",
   "execution_count": 52,
   "metadata": {},
   "outputs": [
    {
     "name": "stdout",
     "output_type": "stream",
     "text": [
      "131685.22434888783\n",
      "131958.91980701868\n"
     ]
    }
   ],
   "source": [
    "print(test_set_rmse1)\n",
    "print(train_set_rmse1)"
   ]
  },
  {
   "cell_type": "code",
   "execution_count": 53,
   "metadata": {},
   "outputs": [],
   "source": [
    "Test_pred_rf = rf_grid.predict(Test_data)"
   ]
  },
  {
   "cell_type": "code",
   "execution_count": 54,
   "metadata": {},
   "outputs": [
    {
     "data": {
      "text/plain": [
       "(21846, 2)"
      ]
     },
     "execution_count": 54,
     "metadata": {},
     "output_type": "execute_result"
    }
   ],
   "source": [
    "DF = pd.DataFrame(list(zip(df['uniqueID'],Test_pred_rf)),columns=['uniqueID','resale_price'])\n",
    "DF.to_csv(\"RFTESTPREDICTIONS.csv\",index=False)\n",
    "DF.shape"
   ]
  },
  {
   "cell_type": "markdown",
   "metadata": {},
   "source": [
    "## Building a Decision Tree model"
   ]
  },
  {
   "cell_type": "code",
   "execution_count": 55,
   "metadata": {},
   "outputs": [],
   "source": [
    "DT_Reg = Pipeline(steps=[('preprocessor', preprocessor),\n",
    "                      ('dt', DecisionTreeRegressor())])"
   ]
  },
  {
   "cell_type": "code",
   "execution_count": 56,
   "metadata": {},
   "outputs": [
    {
     "data": {
      "text/plain": [
       "Pipeline(memory=None,\n",
       "         steps=[('preprocessor',\n",
       "                 ColumnTransformer(n_jobs=None, remainder='drop',\n",
       "                                   sparse_threshold=0.3,\n",
       "                                   transformer_weights=None,\n",
       "                                   transformers=[('num',\n",
       "                                                  Pipeline(memory=None,\n",
       "                                                           steps=[('imputer',\n",
       "                                                                   SimpleImputer(add_indicator=False,\n",
       "                                                                                 copy=True,\n",
       "                                                                                 fill_value=None,\n",
       "                                                                                 missing_values=nan,\n",
       "                                                                                 strategy='median',\n",
       "                                                                                 verbose=0)),\n",
       "                                                                  ('scaler',\n",
       "                                                                   StandardScaler(copy=True,\n",
       "                                                                                  with_mean...\n",
       "                                                   'remaining_lease',\n",
       "                                                   'storey_range',\n",
       "                                                   'street_name', 'town'])],\n",
       "                                   verbose=False)),\n",
       "                ('dt',\n",
       "                 DecisionTreeRegressor(criterion='mse', max_depth=None,\n",
       "                                       max_features=None, max_leaf_nodes=None,\n",
       "                                       min_impurity_decrease=0.0,\n",
       "                                       min_impurity_split=None,\n",
       "                                       min_samples_leaf=1, min_samples_split=2,\n",
       "                                       min_weight_fraction_leaf=0.0,\n",
       "                                       presort=False, random_state=None,\n",
       "                                       splitter='best'))],\n",
       "         verbose=False)"
      ]
     },
     "execution_count": 56,
     "metadata": {},
     "output_type": "execute_result"
    }
   ],
   "source": [
    "DT_Reg.fit(X_train, y_train)"
   ]
  },
  {
   "cell_type": "code",
   "execution_count": 57,
   "metadata": {},
   "outputs": [],
   "source": [
    "train_pred_DT = DT_Reg.predict(X_train)\n",
    "test_pred_DT = DT_Reg.predict(X_test)"
   ]
  },
  {
   "cell_type": "code",
   "execution_count": 58,
   "metadata": {},
   "outputs": [],
   "source": [
    "test_set_rmse2 = np.sqrt(mean_squared_error(y_test, test_pred_DT))\n",
    "train_set_rmse2 = np.sqrt(mean_squared_error(y_train, train_pred_DT))"
   ]
  },
  {
   "cell_type": "code",
   "execution_count": 59,
   "metadata": {},
   "outputs": [
    {
     "name": "stdout",
     "output_type": "stream",
     "text": [
      "34110.12832088329\n",
      "1552.2565974785825\n"
     ]
    }
   ],
   "source": [
    "print(test_set_rmse2)\n",
    "print(train_set_rmse2)"
   ]
  },
  {
   "cell_type": "code",
   "execution_count": 60,
   "metadata": {},
   "outputs": [],
   "source": [
    "Test_pred_DT = DT_Reg.predict(Test_data)"
   ]
  },
  {
   "cell_type": "code",
   "execution_count": 61,
   "metadata": {},
   "outputs": [
    {
     "data": {
      "text/plain": [
       "(21846, 2)"
      ]
     },
     "execution_count": 61,
     "metadata": {},
     "output_type": "execute_result"
    }
   ],
   "source": [
    "DF = pd.DataFrame(list(zip(df['uniqueID'],Test_pred_DT)),columns=['uniqueID','resale_price'])\n",
    "DF.to_csv(\"DTTESTPREDICTIONS.csv\",index=False)\n",
    "DF.shape"
   ]
  },
  {
   "cell_type": "markdown",
   "metadata": {},
   "source": [
    "## Building a Ridge Regression model"
   ]
  },
  {
   "cell_type": "code",
   "execution_count": 62,
   "metadata": {},
   "outputs": [],
   "source": [
    "from sklearn import linear_model\n"
   ]
  },
  {
   "cell_type": "code",
   "execution_count": 63,
   "metadata": {},
   "outputs": [],
   "source": [
    "Ridge_Reg = Pipeline(steps=[('preprocessor', preprocessor),\n",
    "                      ('ridge', linear_model.Ridge(alpha=.5))])"
   ]
  },
  {
   "cell_type": "code",
   "execution_count": 64,
   "metadata": {},
   "outputs": [
    {
     "data": {
      "text/plain": [
       "Pipeline(memory=None,\n",
       "         steps=[('preprocessor',\n",
       "                 ColumnTransformer(n_jobs=None, remainder='drop',\n",
       "                                   sparse_threshold=0.3,\n",
       "                                   transformer_weights=None,\n",
       "                                   transformers=[('num',\n",
       "                                                  Pipeline(memory=None,\n",
       "                                                           steps=[('imputer',\n",
       "                                                                   SimpleImputer(add_indicator=False,\n",
       "                                                                                 copy=True,\n",
       "                                                                                 fill_value=None,\n",
       "                                                                                 missing_values=nan,\n",
       "                                                                                 strategy='median',\n",
       "                                                                                 verbose=0)),\n",
       "                                                                  ('scaler',\n",
       "                                                                   StandardScaler(copy=True,\n",
       "                                                                                  with_mean...\n",
       "                                                                                 dtype=<class 'numpy.float64'>,\n",
       "                                                                                 handle_unknown='ignore',\n",
       "                                                                                 n_values=None,\n",
       "                                                                                 sparse=True))],\n",
       "                                                           verbose=False),\n",
       "                                                  ['block', 'flat_model',\n",
       "                                                   'flat_type', 'month',\n",
       "                                                   'remaining_lease',\n",
       "                                                   'storey_range',\n",
       "                                                   'street_name', 'town'])],\n",
       "                                   verbose=False)),\n",
       "                ('ridge',\n",
       "                 Ridge(alpha=0.5, copy_X=True, fit_intercept=True,\n",
       "                       max_iter=None, normalize=False, random_state=None,\n",
       "                       solver='auto', tol=0.001))],\n",
       "         verbose=False)"
      ]
     },
     "execution_count": 64,
     "metadata": {},
     "output_type": "execute_result"
    }
   ],
   "source": [
    "Ridge_Reg.fit(X_train, y_train)"
   ]
  },
  {
   "cell_type": "code",
   "execution_count": 65,
   "metadata": {},
   "outputs": [],
   "source": [
    "train_pred_rid = Ridge_Reg.predict(X_train)\n",
    "test_pred_rid = Ridge_Reg.predict(X_test)"
   ]
  },
  {
   "cell_type": "code",
   "execution_count": 66,
   "metadata": {},
   "outputs": [],
   "source": [
    "test_set_rmse3 = np.sqrt(mean_squared_error(y_test, test_pred_rid))\n",
    "train_set_rmse3 = np.sqrt(mean_squared_error(y_train, train_pred_rid))"
   ]
  },
  {
   "cell_type": "code",
   "execution_count": 67,
   "metadata": {},
   "outputs": [
    {
     "name": "stdout",
     "output_type": "stream",
     "text": [
      "34272.94857080892\n",
      "33096.57275150851\n"
     ]
    }
   ],
   "source": [
    "print(test_set_rmse3)\n",
    "print(train_set_rmse3)"
   ]
  },
  {
   "cell_type": "code",
   "execution_count": 68,
   "metadata": {},
   "outputs": [],
   "source": [
    "Test_pred_ridge = Ridge_Reg.predict(Test_data)"
   ]
  },
  {
   "cell_type": "code",
   "execution_count": 69,
   "metadata": {},
   "outputs": [
    {
     "data": {
      "text/plain": [
       "(21846, 2)"
      ]
     },
     "execution_count": 69,
     "metadata": {},
     "output_type": "execute_result"
    }
   ],
   "source": [
    "DF = pd.DataFrame(list(zip(df['uniqueID'],Test_pred_ridge)),columns=['uniqueID','resale_price'])\n",
    "DF.to_csv(\"RidgeTESTPREDICTIONS.csv\",index=False)\n",
    "DF.shape"
   ]
  },
  {
   "cell_type": "markdown",
   "metadata": {},
   "source": [
    "## GBoost"
   ]
  },
  {
   "cell_type": "code",
   "execution_count": 73,
   "metadata": {},
   "outputs": [],
   "source": [
    "GBoost = GradientBoostingRegressor(n_estimators=3000, learning_rate=0.05,\n",
    "                                   max_depth=4, max_features='sqrt',\n",
    "                                   min_samples_leaf=15, min_samples_split=10, \n",
    "                                   loss='huber', random_state =5)\n"
   ]
  },
  {
   "cell_type": "code",
   "execution_count": 75,
   "metadata": {},
   "outputs": [],
   "source": [
    "GBoost_reg = Pipeline(steps=[('preprocessor', preprocessor),\n",
    "                      ('GBoost', GradientBoostingRegressor())])"
   ]
  },
  {
   "cell_type": "code",
   "execution_count": 76,
   "metadata": {},
   "outputs": [
    {
     "data": {
      "text/plain": [
       "Pipeline(memory=None,\n",
       "         steps=[('preprocessor',\n",
       "                 ColumnTransformer(n_jobs=None, remainder='drop',\n",
       "                                   sparse_threshold=0.3,\n",
       "                                   transformer_weights=None,\n",
       "                                   transformers=[('num',\n",
       "                                                  Pipeline(memory=None,\n",
       "                                                           steps=[('imputer',\n",
       "                                                                   SimpleImputer(add_indicator=False,\n",
       "                                                                                 copy=True,\n",
       "                                                                                 fill_value=None,\n",
       "                                                                                 missing_values=nan,\n",
       "                                                                                 strategy='median',\n",
       "                                                                                 verbose=0)),\n",
       "                                                                  ('scaler',\n",
       "                                                                   StandardScaler(copy=True,\n",
       "                                                                                  with_mean...\n",
       "                                           init=None, learning_rate=0.1,\n",
       "                                           loss='ls', max_depth=3,\n",
       "                                           max_features=None,\n",
       "                                           max_leaf_nodes=None,\n",
       "                                           min_impurity_decrease=0.0,\n",
       "                                           min_impurity_split=None,\n",
       "                                           min_samples_leaf=1,\n",
       "                                           min_samples_split=2,\n",
       "                                           min_weight_fraction_leaf=0.0,\n",
       "                                           n_estimators=100,\n",
       "                                           n_iter_no_change=None,\n",
       "                                           presort='auto', random_state=None,\n",
       "                                           subsample=1.0, tol=0.0001,\n",
       "                                           validation_fraction=0.1, verbose=0,\n",
       "                                           warm_start=False))],\n",
       "         verbose=False)"
      ]
     },
     "execution_count": 76,
     "metadata": {},
     "output_type": "execute_result"
    }
   ],
   "source": [
    "GBoost_reg.fit(X_train, y_train)"
   ]
  },
  {
   "cell_type": "code",
   "execution_count": 77,
   "metadata": {},
   "outputs": [],
   "source": [
    "train_pred_GB = GBoost_reg.predict(X_train)\n",
    "test_pred_GB = GBoost_reg.predict(X_test)"
   ]
  },
  {
   "cell_type": "code",
   "execution_count": 78,
   "metadata": {},
   "outputs": [],
   "source": [
    "test_set_rmse4 = np.sqrt(mean_squared_error(y_test, test_pred_GB))\n",
    "train_set_rmse4 = np.sqrt(mean_squared_error(y_train, train_pred_GB))"
   ]
  },
  {
   "cell_type": "code",
   "execution_count": 79,
   "metadata": {},
   "outputs": [
    {
     "name": "stdout",
     "output_type": "stream",
     "text": [
      "55267.123142992285\n",
      "54874.19726395386\n"
     ]
    }
   ],
   "source": [
    "print(test_set_rmse4)\n",
    "print(train_set_rmse4)"
   ]
  },
  {
   "cell_type": "code",
   "execution_count": 80,
   "metadata": {},
   "outputs": [],
   "source": [
    "Test_pred_GB = GBoost_reg.predict(Test_data)"
   ]
  },
  {
   "cell_type": "code",
   "execution_count": 81,
   "metadata": {},
   "outputs": [
    {
     "data": {
      "text/plain": [
       "(21846, 2)"
      ]
     },
     "execution_count": 81,
     "metadata": {},
     "output_type": "execute_result"
    }
   ],
   "source": [
    "DF = pd.DataFrame(list(zip(df['uniqueID'],Test_pred_GB)),columns=['uniqueID','resale_price'])\n",
    "DF.to_csv(\"GradientBoostingRegressor.csv\",index=False)\n",
    "DF.shape"
   ]
  },
  {
   "cell_type": "markdown",
   "metadata": {},
   "source": [
    "## XGBoost\n"
   ]
  },
  {
   "cell_type": "code",
   "execution_count": 82,
   "metadata": {},
   "outputs": [],
   "source": [
    "xgboost = xgb.XGBRegressor(colsample_bytree=0.7, gamma=0.0468, \n",
    "                             learning_rate=0.05, max_depth=10, \n",
    "                             min_child_weight=1.7817, n_estimators=2200,\n",
    "                             reg_alpha=0.4640, reg_lambda=0.8571,\n",
    "                             subsample=0.7, silent=1,\n",
    "                             random_state = 7, eta=0.1)"
   ]
  },
  {
   "cell_type": "code",
   "execution_count": 1,
   "metadata": {},
   "outputs": [],
   "source": [
    "\n",
    "\n",
    "#xgboost_reg = Pipeline(steps=[('preprocessor', preprocessor),\n",
    "#                      ('xgb', xgb() )])"
   ]
  },
  {
   "cell_type": "code",
   "execution_count": null,
   "metadata": {},
   "outputs": [],
   "source": [
    "#xgboost_reg.fit(X_train, y_train)"
   ]
  },
  {
   "cell_type": "code",
   "execution_count": null,
   "metadata": {},
   "outputs": [],
   "source": [
    "#train_pred_XG = xgboost_reg.predict(X_train)\n",
    "#test_pred_XG = xgboost_reg.predict(X_test)"
   ]
  },
  {
   "cell_type": "code",
   "execution_count": null,
   "metadata": {},
   "outputs": [],
   "source": [
    "#test_set_rmse5 = np.sqrt(mean_squared_error(y_test, test_pred_XG))\n",
    "#train_set_rmse5 = np.sqrt(mean_squared_error(y_train, train_pred_XG))"
   ]
  },
  {
   "cell_type": "code",
   "execution_count": null,
   "metadata": {},
   "outputs": [],
   "source": [
    "#print(test_set_rmse5)\n",
    "#print(train_set_rmse5)"
   ]
  },
  {
   "cell_type": "code",
   "execution_count": null,
   "metadata": {},
   "outputs": [],
   "source": [
    "#Test_pred_XG = xgboost_reg.predict(Test_data)"
   ]
  },
  {
   "cell_type": "code",
   "execution_count": null,
   "metadata": {},
   "outputs": [],
   "source": [
    "#DF = pd.DataFrame(list(zip(df['uniqueID'],Test_pred_XG)),columns=['uniqueID','resale_price'])\n",
    "#DF.to_csv(\"xgb.csv\",index=False)\n",
    "#DF.shape"
   ]
  },
  {
   "cell_type": "code",
   "execution_count": null,
   "metadata": {},
   "outputs": [],
   "source": []
  }
 ],
 "metadata": {
  "kernelspec": {
   "display_name": "Python 3",
   "language": "python",
   "name": "python3"
  },
  "language_info": {
   "codemirror_mode": {
    "name": "ipython",
    "version": 3
   },
   "file_extension": ".py",
   "mimetype": "text/x-python",
   "name": "python",
   "nbconvert_exporter": "python",
   "pygments_lexer": "ipython3",
   "version": "3.6.5"
  }
 },
 "nbformat": 4,
 "nbformat_minor": 2
}
